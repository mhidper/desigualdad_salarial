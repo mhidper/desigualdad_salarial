{
 "cells": [
  {
   "cell_type": "markdown",
   "metadata": {},
   "source": [
    "# Análisis de la Desigualdad Salarial: Descomposición y RIF\n",
    "\n",
    "Este cuaderno replica el análisis del fichero `estructura productiva.do`, centrandonos en la descomposición de la varianza salarial utilizando Regresiones de Función de Influencia Recentrada (RIF) y la descomposición de Oaxaca-Blinder."
   ]
  },
  {
   "cell_type": "markdown",
   "metadata": {},
   "source": [
    "### 1. Carga de Datos e Importaciones\n",
    "\n",
    "Cargamos los datos procesados del cuaderno anterior y las librerías necesarias para el análisis."
   ]
  },
  {
   "cell_type": "code",
   "execution_count": 1,
   "id": "d4638d05",
   "metadata": {},
   "outputs": [
    {
     "name": "stderr",
     "output_type": "stream",
     "text": [
      "c:\\Users\\Usuario\\anaconda3\\envs\\tftimeseriesII\\lib\\site-packages\\numpy\\_distributor_init.py:30: UserWarning: loaded more than 1 DLL from .libs:\n",
      "c:\\Users\\Usuario\\anaconda3\\envs\\tftimeseriesII\\lib\\site-packages\\numpy\\.libs\\libopenblas.EL2C6PLE4ZYW3ECEVIV3OXXGRN2NRFM2.gfortran-win_amd64.dll\n",
      "c:\\Users\\Usuario\\anaconda3\\envs\\tftimeseriesII\\lib\\site-packages\\numpy\\.libs\\libopenblas.XWYDX2IKJW2NMTWSFYNGFUWKQU3LYTCZ.gfortran-win_amd64.dll\n",
      "  warnings.warn(\"loaded more than 1 DLL from .libs:\"\n"
     ]
    }
   ],
   "source": [
    "import pandas as pd\n",
    "import numpy as np\n",
    "import os\n",
    "import statsmodels.api as sm\n",
    "from rifreg import RIFRegression\n",
    "import matplotlib.pyplot as plt"
   ]
  },
  {
   "cell_type": "markdown",
   "id": "232698a5",
   "metadata": {},
   "source": [
    "### 2. Preparación de Datos\n",
    "\n",
    "Replicamos los pasos de preparación de datos del script de Stata, creando las variables para el análisis sectorial."
   ]
  },
  {
   "cell_type": "code",
   "execution_count": 2,
   "id": "2b1cdb4c",
   "metadata": {},
   "outputs": [
    {
     "name": "stdout",
     "output_type": "stream",
     "text": [
      "Variables 'sec_ced' y 'act' creadas.\n"
     ]
    }
   ],
   "source": [
    "# Cargar los datos procesados\n",
    "processed_data_path = os.path.join('..', 'data', 'EES_procesado.parquet')\n",
    "df = pd.read_parquet(processed_data_path)\n",
    "\n",
    "# Crear la columna lsalmes antes de usarla\n",
    "df['lsalmes'] = np.log(df['salmes'])\n",
    "\n",
    "# Creación de la variable de sector CEDEFOP (sec_ced)\n",
    "secc_to_ced_map = {\n",
    "    'N0': 1, 'O0': 1,\n",
    "    'D0': 3,\n",
    "    'E0': 4,\n",
    "    'B0': 5, 'C1': 5, 'C2': 5, 'C3': 5, 'C4': 5, 'C5': 5, 'C6': 5, 'C7': 5, 'C8': 5,\n",
    "    'F0': 6,\n",
    "    'G1': 7, 'G2': 7,\n",
    "    'I0': 8,\n",
    "    'H1': 9, 'H2': 9,\n",
    "    'J0': 10,\n",
    "    'K0': 11, 'L0': 11,\n",
    "    'M0': 12,\n",
    "    'P0': 13, 'Q0': 13,\n",
    "    'R0': 14,\n",
    "    'S0': 15\n",
    "}\n",
    "df['sec_ced'] = df['secc'].map(secc_to_ced_map)\n",
    "\n",
    "# Creación de la variable de actividad agregada (act)\n",
    "df['act'] = np.nan\n",
    "df.loc[df['sec_ced'] == 5, 'act'] = 'I' # Industria\n",
    "df.loc[df['sec_ced'].isin([3, 4]), 'act'] = 'E' # Energía\n",
    "df.loc[df['sec_ced'] == 6, 'act'] = 'C' # Construcción\n",
    "df.loc[df['sec_ced'].isin([10, 11]), 'act'] = 'ST' # Servicios Tecnológicos\n",
    "df.loc[df['act'].isna() & (df['sec_ced'] != 2), 'act'] = 'S' # El resto de los servicios\n",
    "\n",
    "print(\"Variables 'sec_ced' y 'act' creadas.\")"
   ]
  }
 ],
 "metadata": {
  "kernelspec": {
   "display_name": "tftimeseriesII",
   "language": "python",
   "name": "python3"
  },
  "language_info": {
   "codemirror_mode": {
    "name": "ipython",
    "version": 3
   },
   "file_extension": ".py",
   "mimetype": "text/x-python",
   "name": "python",
   "nbconvert_exporter": "python",
   "pygments_lexer": "ipython3",
   "version": "3.9.7"
  }
 },
 "nbformat": 4,
 "nbformat_minor": 5
}
