{
 "cells": [
  {
   "cell_type": "markdown",
   "metadata": {},
   "source": [
    "# Visualización de Medidas de Desigualdad\n",
    "\n",
    "Este cuaderno calcula y visualiza la evolución del Coeficiente de Gini, la Desviación Estándar y el Rango Intercuantílico (P90-P10) para la variable `salmes` a lo largo de los años."
   ]
  },
  {
   "cell_type": "code",
   "execution_count": 1,
   "metadata": {},
   "outputs": [
    {
     "name": "stderr",
     "output_type": "stream",
     "text": [
      "c:\\Users\\Usuario\\anaconda3\\envs\\tftimeseriesII\\lib\\site-packages\\numpy\\_distributor_init.py:30: UserWarning: loaded more than 1 DLL from .libs:\n",
      "c:\\Users\\Usuario\\anaconda3\\envs\\tftimeseriesII\\lib\\site-packages\\numpy\\.libs\\libopenblas.EL2C6PLE4ZYW3ECEVIV3OXXGRN2NRFM2.gfortran-win_amd64.dll\n",
      "c:\\Users\\Usuario\\anaconda3\\envs\\tftimeseriesII\\lib\\site-packages\\numpy\\.libs\\libopenblas.XWYDX2IKJW2NMTWSFYNGFUWKQU3LYTCZ.gfortran-win_amd64.dll\n",
      "  warnings.warn(\"loaded more than 1 DLL from .libs:\"\n"
     ]
    },
    {
     "name": "stdout",
     "output_type": "stream",
     "text": [
      "Datos cargados correctamente.\n"
     ]
    }
   ],
   "source": [
    "import pandas as pd\n",
    "import numpy as np\n",
    "import os\n",
    "import matplotlib.pyplot as plt\n",
    "\n",
    "# Cargar los datos procesados\n",
    "processed_data_path = os.path.join('..', 'data', 'EES_procesado.parquet')\n",
    "df = pd.read_parquet(processed_data_path)\n",
    "\n",
    "# Asegurarse de que las columnas necesarias son numéricas\n",
    "df['salmes'] = pd.to_numeric(df['salmes'], errors='coerce')\n",
    "df['factotal'] = pd.to_numeric(df['factotal'], errors='coerce')\n",
    "df.dropna(subset=['salmes', 'factotal'], inplace=True)\n",
    "\n",
    "print(\"Datos cargados correctamente.\")"
   ]
  },
  {
   "cell_type": "markdown",
   "metadata": {},
   "source": [
    "### 2. Funciones para Estadísticos Ponderados\n",
    "\n",
    "Definimos funciones para calcular cuantiles, desviación estándar y el coeficiente de Gini usando los pesos muestrales (`factotal`)."
   ]
  },
  {
   "cell_type": "code",
   "execution_count": 4,
   "metadata": {},
   "outputs": [],
   "source": [
    "def weighted_quantile(values, quantiles, sample_weight=None):\n",
    "    \"\"\"Calcula cuantiles ponderados.\"\"\"\n",
    "    values = np.array(values)\n",
    "    quantiles = np.array(quantiles)\n",
    "    if sample_weight is None:\n",
    "        sample_weight = np.ones(len(values))\n",
    "    sample_weight = np.array(sample_weight)\n",
    "    \n",
    "    sorter = np.argsort(values)\n",
    "    values = values[sorter]\n",
    "    sample_weight = sample_weight[sorter]\n",
    "    \n",
    "    weighted_quantiles = np.cumsum(sample_weight) - 0.5 * sample_weight\n",
    "    weighted_quantiles /= np.sum(sample_weight)\n",
    "    return np.interp(quantiles, weighted_quantiles, values)\n",
    "\n",
    "def weighted_std(values, weights):\n",
    "    \"\"\"Calcula la desviación estándar ponderada.\"\"\"\n",
    "    average = np.average(values, weights=weights)\n",
    "    variance = np.average((values - average)**2, weights=weights)\n",
    "    return np.sqrt(variance)\n",
    "\n",
    "def weighted_gini(values, weights):\n",
    "    \"\"\"Calcula el coeficiente de Gini ponderado.\"\"\"\n",
    "    # Adaptado de https://github.com/statsmodels/statsmodels/blob/main/statsmodels/stats/inequality.py\n",
    "    values = np.array(values)\n",
    "    weights = np.array(weights)\n",
    "    \n",
    "    sorter = np.argsort(values)\n",
    "    sorted_values = values[sorter]\n",
    "    sorted_weights = weights[sorter]\n",
    "    \n",
    "    cum_weights = np.cumsum(sorted_weights)\n",
    "    total_weight = cum_weights[-1]\n",
    "    \n",
    "    # El rank es el punto medio de la distribución de pesos acumulada\n",
    "    ranks = (cum_weights - 0.5 * sorted_weights) / total_weight\n",
    "    \n",
    "    mean = np.average(sorted_values, weights=sorted_weights)\n",
    "    if mean == 0:\n",
    "        return 0\n",
    "        \n",
    "    # Covarianza ponderada entre el valor y su rango\n",
    "    cov_y_rank = np.average((sorted_values - mean) * (ranks - np.average(ranks, weights=sorted_weights)), weights=sorted_weights)\n",
    "    return 2 * cov_y_rank / mean"
   ]
  },
  {
   "cell_type": "markdown",
   "metadata": {},
   "source": [
    "### 3. Cálculo de los Estadísticos por Año"
   ]
  },
  {
   "cell_type": "code",
   "execution_count": 5,
   "metadata": {},
   "outputs": [
    {
     "ename": "IndexError",
     "evalue": "index -1 is out of bounds for axis 0 with size 0",
     "output_type": "error",
     "traceback": [
      "\u001b[1;31m---------------------------------------------------------------------------\u001b[0m",
      "\u001b[1;31mIndexError\u001b[0m                                Traceback (most recent call last)",
      "\u001b[1;32m~\\AppData\\Local\\Temp\\ipykernel_25172\\3261538869.py\u001b[0m in \u001b[0;36m<cell line: 4>\u001b[1;34m()\u001b[0m\n\u001b[0;32m      7\u001b[0m     \u001b[0mweights\u001b[0m \u001b[1;33m=\u001b[0m \u001b[0myear_data\u001b[0m\u001b[1;33m[\u001b[0m\u001b[1;34m'factotal'\u001b[0m\u001b[1;33m]\u001b[0m\u001b[1;33m\u001b[0m\u001b[1;33m\u001b[0m\u001b[0m\n\u001b[0;32m      8\u001b[0m \u001b[1;33m\u001b[0m\u001b[0m\n\u001b[1;32m----> 9\u001b[1;33m     \u001b[0mgini\u001b[0m \u001b[1;33m=\u001b[0m \u001b[0mweighted_gini\u001b[0m\u001b[1;33m(\u001b[0m\u001b[0mvalues\u001b[0m\u001b[1;33m,\u001b[0m \u001b[0mweights\u001b[0m\u001b[1;33m)\u001b[0m\u001b[1;33m\u001b[0m\u001b[1;33m\u001b[0m\u001b[0m\n\u001b[0m\u001b[0;32m     10\u001b[0m     \u001b[0mstd\u001b[0m \u001b[1;33m=\u001b[0m \u001b[0mweighted_std\u001b[0m\u001b[1;33m(\u001b[0m\u001b[0mvalues\u001b[0m\u001b[1;33m,\u001b[0m \u001b[0mweights\u001b[0m\u001b[1;33m)\u001b[0m\u001b[1;33m\u001b[0m\u001b[1;33m\u001b[0m\u001b[0m\n\u001b[0;32m     11\u001b[0m     \u001b[0mp10\u001b[0m\u001b[1;33m,\u001b[0m \u001b[0mp90\u001b[0m \u001b[1;33m=\u001b[0m \u001b[0mweighted_quantile\u001b[0m\u001b[1;33m(\u001b[0m\u001b[0mvalues\u001b[0m\u001b[1;33m,\u001b[0m \u001b[1;33m[\u001b[0m\u001b[1;36m0.1\u001b[0m\u001b[1;33m,\u001b[0m \u001b[1;36m0.9\u001b[0m\u001b[1;33m]\u001b[0m\u001b[1;33m,\u001b[0m \u001b[0msample_weight\u001b[0m\u001b[1;33m=\u001b[0m\u001b[0mweights\u001b[0m\u001b[1;33m)\u001b[0m\u001b[1;33m\u001b[0m\u001b[1;33m\u001b[0m\u001b[0m\n",
      "\u001b[1;32m~\\AppData\\Local\\Temp\\ipykernel_25172\\1442811832.py\u001b[0m in \u001b[0;36mweighted_gini\u001b[1;34m(values, weights)\u001b[0m\n\u001b[0;32m     32\u001b[0m \u001b[1;33m\u001b[0m\u001b[0m\n\u001b[0;32m     33\u001b[0m     \u001b[0mcum_weights\u001b[0m \u001b[1;33m=\u001b[0m \u001b[0mnp\u001b[0m\u001b[1;33m.\u001b[0m\u001b[0mcumsum\u001b[0m\u001b[1;33m(\u001b[0m\u001b[0msorted_weights\u001b[0m\u001b[1;33m)\u001b[0m\u001b[1;33m\u001b[0m\u001b[1;33m\u001b[0m\u001b[0m\n\u001b[1;32m---> 34\u001b[1;33m     \u001b[0mtotal_weight\u001b[0m \u001b[1;33m=\u001b[0m \u001b[0mcum_weights\u001b[0m\u001b[1;33m[\u001b[0m\u001b[1;33m-\u001b[0m\u001b[1;36m1\u001b[0m\u001b[1;33m]\u001b[0m\u001b[1;33m\u001b[0m\u001b[1;33m\u001b[0m\u001b[0m\n\u001b[0m\u001b[0;32m     35\u001b[0m \u001b[1;33m\u001b[0m\u001b[0m\n\u001b[0;32m     36\u001b[0m     \u001b[1;31m# El rank es el punto medio de la distribución de pesos acumulada\u001b[0m\u001b[1;33m\u001b[0m\u001b[1;33m\u001b[0m\u001b[0m\n",
      "\u001b[1;31mIndexError\u001b[0m: index -1 is out of bounds for axis 0 with size 0"
     ]
    }
   ],
   "source": [
    "results = {}\n",
    "years = ['2010', '2014', '2018']\n",
    "\n",
    "for year in years:\n",
    "    year_data = df[df['year'] == year]\n",
    "    values = year_data['salmes']\n",
    "    weights = year_data['factotal']\n",
    "    \n",
    "    gini = weighted_gini(values, weights)\n",
    "    std = weighted_std(values, weights)\n",
    "    p10, p90 = weighted_quantile(values, [0.1, 0.9], sample_weight=weights)\n",
    "    iqr = p90 - p10\n",
    "    \n",
    "    results[year] = {\n",
    "        'Gini': gini,\n",
    "        'Std. Dev.': std,\n",
    "        'IQR (90-10)': iqr\n",
    "    }\n",
    "\n",
    "# Convertir a DataFrame para facilitar el ploteo\n",
    "results_df = pd.DataFrame(results).T\n",
    "print(\"Estadísticos de Desigualdad Calculados:\")\n",
    "results_df"
   ]
  },
  {
   "cell_type": "markdown",
   "metadata": {},
   "source": [
    "### 4. Generación del Gráfico"
   ]
  },
  {
   "cell_type": "code",
   "execution_count": null,
   "metadata": {},
   "outputs": [],
   "source": [
    "labels = results_df.index\n",
    "gini_vals = results_df['Gini']\n",
    "std_vals = results_df['Std. Dev.']\n",
    "iqr_vals = results_df['IQR (90-10)']\n",
    "\n",
    "x = np.arange(len(labels))  # the label locations\n",
    "width = 0.25  # the width of the bars\n",
    "\n",
    "fig, ax1 = plt.subplots(figsize=(14, 8))\n",
    "\n",
    "# --- Eje Izquierdo (Gini) --- \n",
    "color1 = 'tab:blue'\n",
    "ax1.set_xlabel('Año', fontsize=12)\n",
    "ax1.set_ylabel('Coeficiente de Gini', color=color1, fontsize=12)\n",
    "rects1 = ax1.bar(x - width, gini_vals, width, label='Gini', color=color1)\n",
    "ax1.tick_params(axis='y', labelcolor=color1)\n",
    "ax1.set_xticks(x)\n",
    "ax1.set_xticklabels(labels)\n",
    "ax1.grid(axis='y', linestyle='--', alpha=0.7, color=color1)\n",
    "\n",
    "# --- Eje Derecho (Std y IQR) --- \n",
    "ax2 = ax1.twinx()  # instantiate a second axes that shares the same x-axis\n",
    "color2 = 'tab:red'\n",
    "color3 = 'tab:green'\n",
    "ax2.set_ylabel('Desviación Estándar y Rango Intercuantílico', fontsize=12)  # we already handled the x-label with ax1\n",
    "rects2 = ax2.bar(x, std_vals, width, label='Std. Dev.', color=color2)\n",
    "rects3 = ax2.bar(x + width, iqr_vals, width, label='IQR (90-10)', color=color3)\n",
    "ax2.tick_params(axis='y')\n",
    "ax2.grid(axis='y', linestyle='--', alpha=0.7)\n",
    "\n",
    "# --- Título y Leyendas --- \n",
    "fig.suptitle('Evolución de Medidas de Desigualdad Salarial (salmes)', fontsize=16)\n",
    "# Añadir leyendas\n",
    "lines, labels = ax1.get_legend_handles_labels()\n",
    "lines2, labels2 = ax2.get_legend_handles_labels()\n",
    "ax2.legend(lines + lines2, labels + labels2, loc='upper left')\n",
    "\n",
    "fig.tight_layout()\n",
    "plt.show()"
   ]
  }
 ],
 "metadata": {
  "kernelspec": {
   "display_name": "Python 3",
   "language": "python",
   "name": "python3"
  },
  "language_info": {
   "codemirror_mode": {
    "name": "ipython",
    "version": 3
   },
   "file_extension": ".py",
   "mimetype": "text/x-python",
   "name": "python",
   "nbconvert_exporter": "python",
   "pygments_lexer": "ipython3",
   "version": "3.9.7"
  }
 },
 "nbformat": 4,
 "nbformat_minor": 5
}
