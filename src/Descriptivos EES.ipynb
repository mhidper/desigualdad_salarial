{
 "cells": [
  {
   "cell_type": "markdown",
   "metadata": {},
   "source": [
    "# Análisis Descriptivo de la Encuesta de Estructura Salarial\n",
    "\n",
    "Este cuaderno carga los datos procesados de la EES y replica los análisis descriptivos del fichero `Descriptivos EES.do`."
   ]
  },
  {
   "cell_type": "code",
   "execution_count": 2,
   "metadata": {},
   "outputs": [
    {
     "name": "stdout",
     "output_type": "stream",
     "text": [
      "Datos cargados correctamente.\n",
      "El DataFrame tiene 642931 filas y 123 columnas.\n"
     ]
    },
    {
     "data": {
      "application/vnd.microsoft.datawrangler.viewer.v0+json": {
       "columns": [
        {
         "name": "index",
         "rawType": "int64",
         "type": "integer"
        },
        {
         "name": "ordenccc",
         "rawType": "object",
         "type": "string"
        },
        {
         "name": "ordentra",
         "rawType": "object",
         "type": "string"
        },
        {
         "name": "region",
         "rawType": "object",
         "type": "string"
        },
        {
         "name": "secc",
         "rawType": "object",
         "type": "string"
        },
        {
         "name": "estrato2",
         "rawType": "object",
         "type": "string"
        },
        {
         "name": "control",
         "rawType": "int64",
         "type": "integer"
        },
        {
         "name": "mercado",
         "rawType": "int64",
         "type": "integer"
        },
        {
         "name": "convenio",
         "rawType": "object",
         "type": "string"
        },
        {
         "name": "sexo",
         "rawType": "int64",
         "type": "integer"
        },
        {
         "name": "tipopais",
         "rawType": "int64",
         "type": "integer"
        },
        {
         "name": "cno2",
         "rawType": "object",
         "type": "string"
        },
        {
         "name": "responsa",
         "rawType": "object",
         "type": "string"
        },
        {
         "name": "cestudio",
         "rawType": "object",
         "type": "string"
        },
        {
         "name": "anoanti",
         "rawType": "int8",
         "type": "integer"
        },
        {
         "name": "mesanti",
         "rawType": "int8",
         "type": "integer"
        },
        {
         "name": "parcial",
         "rawType": "int64",
         "type": "integer"
        },
        {
         "name": "fijodism",
         "rawType": "int8",
         "type": "integer"
        },
        {
         "name": "fijodisd",
         "rawType": "int8",
         "type": "integer"
        },
        {
         "name": "val",
         "rawType": "int8",
         "type": "integer"
        },
        {
         "name": "van",
         "rawType": "int8",
         "type": "integer"
        },
        {
         "name": "puentes",
         "rawType": "int8",
         "type": "integer"
        },
        {
         "name": "jap",
         "rawType": "int16",
         "type": "integer"
        },
        {
         "name": "jsp1",
         "rawType": "int8",
         "type": "integer"
        },
        {
         "name": "jsp2",
         "rawType": "int8",
         "type": "integer"
        },
        {
         "name": "hextra",
         "rawType": "int16",
         "type": "integer"
        },
        {
         "name": "drelabm",
         "rawType": "int8",
         "type": "integer"
        },
        {
         "name": "siespm1",
         "rawType": "object",
         "type": "string"
        },
        {
         "name": "dsiespm1",
         "rawType": "int8",
         "type": "integer"
        },
        {
         "name": "siespm2",
         "rawType": "object",
         "type": "string"
        },
        {
         "name": "dsiespm2",
         "rawType": "int8",
         "type": "integer"
        },
        {
         "name": "salbase",
         "rawType": "float64",
         "type": "float"
        },
        {
         "name": "extraorm",
         "rawType": "float64",
         "type": "float"
        },
        {
         "name": "phextra",
         "rawType": "float64",
         "type": "float"
        },
        {
         "name": "comsal",
         "rawType": "float64",
         "type": "float"
        },
        {
         "name": "comsaltt",
         "rawType": "float64",
         "type": "float"
        },
        {
         "name": "irpfmes",
         "rawType": "float64",
         "type": "float"
        },
        {
         "name": "cotiza",
         "rawType": "float64",
         "type": "float"
        },
        {
         "name": "base",
         "rawType": "float64",
         "type": "float"
        },
        {
         "name": "drelabam",
         "rawType": "int8",
         "type": "integer"
        },
        {
         "name": "drelabad",
         "rawType": "int8",
         "type": "integer"
        },
        {
         "name": "siespa1",
         "rawType": "object",
         "type": "string"
        },
        {
         "name": "dsiespa1",
         "rawType": "int16",
         "type": "integer"
        },
        {
         "name": "siespa2",
         "rawType": "object",
         "type": "string"
        },
        {
         "name": "dsiespa2",
         "rawType": "int16",
         "type": "integer"
        },
        {
         "name": "siespa3",
         "rawType": "object",
         "type": "string"
        },
        {
         "name": "dsiespa3",
         "rawType": "int16",
         "type": "integer"
        },
        {
         "name": "siespa4",
         "rawType": "object",
         "type": "string"
        },
        {
         "name": "dsiespa4",
         "rawType": "int16",
         "type": "integer"
        },
        {
         "name": "retrinoin",
         "rawType": "float64",
         "type": "float"
        },
        {
         "name": "retriin",
         "rawType": "float64",
         "type": "float"
        },
        {
         "name": "gextra",
         "rawType": "float64",
         "type": "float"
        },
        {
         "name": "vespnoin",
         "rawType": "float64",
         "type": "float"
        },
        {
         "name": "vespin",
         "rawType": "float64",
         "type": "float"
        },
        {
         "name": "edad",
         "rawType": "object",
         "type": "string"
        },
        {
         "name": "factotal",
         "rawType": "float64",
         "type": "float"
        },
        {
         "name": "year",
         "rawType": "int64",
         "type": "integer"
        },
        {
         "name": "salbruto",
         "rawType": "float64",
         "type": "float"
        },
        {
         "name": "vesp",
         "rawType": "float64",
         "type": "float"
        },
        {
         "name": "diasrelaba",
         "rawType": "float64",
         "type": "float"
        },
        {
         "name": "diasano",
         "rawType": "float64",
         "type": "float"
        },
        {
         "name": "salmes",
         "rawType": "float64",
         "type": "float"
        },
        {
         "name": "salneto",
         "rawType": "float64",
         "type": "float"
        },
        {
         "name": "horas",
         "rawType": "float64",
         "type": "float"
        },
        {
         "name": "salhora",
         "rawType": "float64",
         "type": "float"
        },
        {
         "name": "salbasehora",
         "rawType": "float64",
         "type": "float"
        },
        {
         "name": "restosal",
         "rawType": "float64",
         "type": "float"
        },
        {
         "name": "lsalhora",
         "rawType": "float64",
         "type": "float"
        },
        {
         "name": "lsalbasehora",
         "rawType": "float64",
         "type": "float"
        },
        {
         "name": "lrestosal",
         "rawType": "float64",
         "type": "float"
        },
        {
         "name": "horascontr",
         "rawType": "float16",
         "type": "float"
        },
        {
         "name": "indefin",
         "rawType": "int64",
         "type": "integer"
        },
        {
         "name": "age_1",
         "rawType": "uint8",
         "type": "integer"
        },
        {
         "name": "age_2",
         "rawType": "uint8",
         "type": "integer"
        },
        {
         "name": "age_3",
         "rawType": "uint8",
         "type": "integer"
        },
        {
         "name": "age_4",
         "rawType": "uint8",
         "type": "integer"
        },
        {
         "name": "age_5",
         "rawType": "uint8",
         "type": "integer"
        },
        {
         "name": "age_6",
         "rawType": "uint8",
         "type": "integer"
        },
        {
         "name": "sect_B0",
         "rawType": "uint8",
         "type": "integer"
        },
        {
         "name": "sect_C1",
         "rawType": "uint8",
         "type": "integer"
        },
        {
         "name": "sect_C2",
         "rawType": "uint8",
         "type": "integer"
        },
        {
         "name": "sect_C3",
         "rawType": "uint8",
         "type": "integer"
        },
        {
         "name": "sect_C4",
         "rawType": "uint8",
         "type": "integer"
        },
        {
         "name": "sect_C5",
         "rawType": "uint8",
         "type": "integer"
        },
        {
         "name": "sect_C6",
         "rawType": "uint8",
         "type": "integer"
        },
        {
         "name": "sect_C7",
         "rawType": "uint8",
         "type": "integer"
        },
        {
         "name": "sect_C8",
         "rawType": "uint8",
         "type": "integer"
        },
        {
         "name": "sect_D0",
         "rawType": "uint8",
         "type": "integer"
        },
        {
         "name": "sect_E0",
         "rawType": "uint8",
         "type": "integer"
        },
        {
         "name": "sect_F0",
         "rawType": "uint8",
         "type": "integer"
        },
        {
         "name": "sect_G1",
         "rawType": "uint8",
         "type": "integer"
        },
        {
         "name": "sect_G2",
         "rawType": "uint8",
         "type": "integer"
        },
        {
         "name": "sect_H1",
         "rawType": "uint8",
         "type": "integer"
        },
        {
         "name": "sect_H2",
         "rawType": "uint8",
         "type": "integer"
        },
        {
         "name": "sect_I0",
         "rawType": "uint8",
         "type": "integer"
        },
        {
         "name": "sect_J0",
         "rawType": "uint8",
         "type": "integer"
        },
        {
         "name": "sect_K0",
         "rawType": "uint8",
         "type": "integer"
        },
        {
         "name": "sect_L0",
         "rawType": "uint8",
         "type": "integer"
        },
        {
         "name": "sect_M0",
         "rawType": "uint8",
         "type": "integer"
        },
        {
         "name": "sect_N0",
         "rawType": "uint8",
         "type": "integer"
        },
        {
         "name": "sect_O0",
         "rawType": "uint8",
         "type": "integer"
        },
        {
         "name": "sect_P0",
         "rawType": "uint8",
         "type": "integer"
        },
        {
         "name": "sect_Q0",
         "rawType": "uint8",
         "type": "integer"
        },
        {
         "name": "sect_R0",
         "rawType": "uint8",
         "type": "integer"
        },
        {
         "name": "sect_S0",
         "rawType": "uint8",
         "type": "integer"
        },
        {
         "name": "ict",
         "rawType": "int64",
         "type": "integer"
        },
        {
         "name": "v_added",
         "rawType": "int64",
         "type": "integer"
        },
        {
         "name": "market_1",
         "rawType": "uint8",
         "type": "integer"
        },
        {
         "name": "market_2",
         "rawType": "uint8",
         "type": "integer"
        },
        {
         "name": "market_3",
         "rawType": "uint8",
         "type": "integer"
        },
        {
         "name": "market_4",
         "rawType": "uint8",
         "type": "integer"
        },
        {
         "name": "conv__1",
         "rawType": "uint8",
         "type": "integer"
        },
        {
         "name": "conv__2",
         "rawType": "uint8",
         "type": "integer"
        },
        {
         "name": "conv__3",
         "rawType": "uint8",
         "type": "integer"
        },
        {
         "name": "conv__4",
         "rawType": "uint8",
         "type": "integer"
        },
        {
         "name": "conv__5",
         "rawType": "uint8",
         "type": "integer"
        },
        {
         "name": "estudios_1",
         "rawType": "uint8",
         "type": "integer"
        },
        {
         "name": "estudios_2",
         "rawType": "uint8",
         "type": "integer"
        },
        {
         "name": "estudios_3",
         "rawType": "uint8",
         "type": "integer"
        },
        {
         "name": "estudios_4",
         "rawType": "uint8",
         "type": "integer"
        },
        {
         "name": "estudios_6",
         "rawType": "uint8",
         "type": "integer"
        },
        {
         "name": "estudios_7",
         "rawType": "uint8",
         "type": "integer"
        },
        {
         "name": "anoanti2",
         "rawType": "int8",
         "type": "integer"
        },
        {
         "name": "contrato",
         "rawType": "int64",
         "type": "integer"
        }
       ],
       "ref": "b24b4149-9888-474a-97d1-8da52812c4b0",
       "rows": [
        [
         "0",
         "00000025",
         "01",
         "1",
         "H1",
         "1",
         "1",
         "3",
         "2",
         "0",
         "0",
         "N0",
         "0",
         "3",
         "28",
         "10",
         "1",
         "0",
         "0",
         "0",
         "31",
         "0",
         "898",
         "20",
         "0",
         "0",
         "31",
         "6",
         "0",
         "6",
         "0",
         "510.7208333333333",
         "0.0",
         "0.0",
         "89.7",
         "0.0",
         "45.22",
         "74.63",
         "1175.3",
         "12",
         "0",
         "6",
         "0",
         "6",
         "0",
         "6",
         "0",
         "6",
         "0",
         "6128.65",
         "0.0",
         "787.35",
         "0.0",
         "0.0",
         "6",
         "70.48",
         "2018",
         "6128.65",
         "0.0",
         "365.0",
         "365.0",
         "600.4208333333333",
         "480.5708333333333",
         "87.0",
         "6.9013888888888895",
         "5.870354406130268",
         "1.0310344827586215",
         "1.9317226795922198",
         "1.7699150078488495",
         "0.03056265041016753",
         "2.996",
         "0",
         "0",
         "0",
         "0",
         "0",
         "0",
         "1",
         "0",
         "0",
         "0",
         "0",
         "0",
         "0",
         "0",
         "0",
         "0",
         "0",
         "0",
         "0",
         "0",
         "0",
         "1",
         "0",
         "0",
         "0",
         "0",
         "0",
         "0",
         "0",
         "0",
         "0",
         "0",
         "0",
         "0",
         "0",
         "0",
         "0",
         "0",
         "1",
         "0",
         "0",
         "1",
         "0",
         "0",
         "0",
         "0",
         "0",
         "1",
         "0",
         "0",
         "0",
         "16",
         "4"
        ],
        [
         "1",
         "00000025",
         "02",
         "1",
         "H1",
         "1",
         "1",
         "3",
         "2",
         "0",
         "0",
         "N0",
         "0",
         "3",
         "10",
         "2",
         "0",
         "0",
         "0",
         "0",
         "31",
         "0",
         "1796",
         "40",
         "0",
         "0",
         "31",
         "6",
         "0",
         "6",
         "0",
         "1375.8308333333334",
         "0.0",
         "0.0",
         "40.0",
         "0.0",
         "100.85",
         "86.89",
         "1368.33",
         "12",
         "0",
         "6",
         "0",
         "6",
         "0",
         "6",
         "0",
         "6",
         "0",
         "16509.97",
         "0.0",
         "3127.5",
         "0.0",
         "0.0",
         "6",
         "70.48",
         "2018",
         "16509.97",
         "0.0",
         "365.0",
         "365.0",
         "1415.8308333333334",
         "1228.0908333333334",
         "174.0",
         "8.136958812260536",
         "7.907073754789272",
         "0.22988505747126364",
         "2.096416499917334",
         "2.067757770829436",
         "-1.470175845100596",
         "3.69",
         "1",
         "0",
         "0",
         "0",
         "0",
         "0",
         "1",
         "0",
         "0",
         "0",
         "0",
         "0",
         "0",
         "0",
         "0",
         "0",
         "0",
         "0",
         "0",
         "0",
         "0",
         "1",
         "0",
         "0",
         "0",
         "0",
         "0",
         "0",
         "0",
         "0",
         "0",
         "0",
         "0",
         "0",
         "0",
         "0",
         "0",
         "0",
         "1",
         "0",
         "0",
         "1",
         "0",
         "0",
         "0",
         "0",
         "0",
         "1",
         "0",
         "0",
         "0",
         "100",
         "1"
        ],
        [
         "2",
         "00000025",
         "03",
         "1",
         "H1",
         "1",
         "1",
         "3",
         "2",
         "1",
         "0",
         "C0",
         "0",
         "7",
         "4",
         "1",
         "0",
         "0",
         "0",
         "0",
         "31",
         "0",
         "1796",
         "40",
         "0",
         "0",
         "31",
         "6",
         "0",
         "6",
         "0",
         "1523.7",
         "0.0",
         "0.0",
         "190.0",
         "0.0",
         "113.21",
         "96.75",
         "1523.71",
         "12",
         "0",
         "6",
         "0",
         "6",
         "0",
         "6",
         "0",
         "6",
         "0",
         "18284.4",
         "0.0",
         "3200.76",
         "0.0",
         "0.0",
         "4",
         "70.48",
         "2018",
         "18284.4",
         "0.0",
         "365.0",
         "365.0",
         "1713.7",
         "1503.74",
         "174.0",
         "9.848850574712644",
         "8.756896551724138",
         "1.0919540229885065",
         "2.2873547554522746",
         "2.16984156726078",
         "0.08796877294595783",
         "3.69",
         "1",
         "0",
         "0",
         "0",
         "1",
         "0",
         "0",
         "0",
         "0",
         "0",
         "0",
         "0",
         "0",
         "0",
         "0",
         "0",
         "0",
         "0",
         "0",
         "0",
         "0",
         "1",
         "0",
         "0",
         "0",
         "0",
         "0",
         "0",
         "0",
         "0",
         "0",
         "0",
         "0",
         "0",
         "0",
         "0",
         "0",
         "0",
         "1",
         "0",
         "0",
         "1",
         "0",
         "0",
         "0",
         "0",
         "0",
         "0",
         "0",
         "0",
         "1",
         "16",
         "1"
        ],
        [
         "3",
         "00000025",
         "04",
         "1",
         "H1",
         "1",
         "1",
         "3",
         "2",
         "0",
         "0",
         "N0",
         "0",
         "3",
         "14",
         "11",
         "0",
         "0",
         "0",
         "0",
         "31",
         "0",
         "1796",
         "40",
         "0",
         "0",
         "31",
         "6",
         "0",
         "6",
         "0",
         "1379.1641666666667",
         "0.0",
         "0.0",
         "40.0",
         "0.0",
         "71.56",
         "86.89",
         "1368.33",
         "12",
         "0",
         "6",
         "0",
         "6",
         "0",
         "6",
         "0",
         "6",
         "0",
         "16549.97",
         "0.0",
         "3127.77",
         "0.0",
         "0.0",
         "6",
         "70.48",
         "2018",
         "16549.97",
         "0.0",
         "365.0",
         "365.0",
         "1419.1641666666667",
         "1260.7141666666666",
         "174.0",
         "8.156115900383142",
         "7.9262308429118775",
         "0.22988505747126453",
         "2.0987680630554717",
         "2.070177619112215",
         "-1.470175845100592",
         "3.69",
         "1",
         "0",
         "0",
         "0",
         "0",
         "0",
         "1",
         "0",
         "0",
         "0",
         "0",
         "0",
         "0",
         "0",
         "0",
         "0",
         "0",
         "0",
         "0",
         "0",
         "0",
         "1",
         "0",
         "0",
         "0",
         "0",
         "0",
         "0",
         "0",
         "0",
         "0",
         "0",
         "0",
         "0",
         "0",
         "0",
         "0",
         "0",
         "1",
         "0",
         "0",
         "1",
         "0",
         "0",
         "0",
         "0",
         "0",
         "1",
         "0",
         "0",
         "0",
         "-60",
         "1"
        ],
        [
         "4",
         "00000025",
         "05",
         "1",
         "H1",
         "1",
         "1",
         "3",
         "2",
         "0",
         "0",
         "N0",
         "0",
         "3",
         "6",
         "4",
         "0",
         "0",
         "0",
         "0",
         "31",
         "0",
         "1796",
         "40",
         "0",
         "0",
         "31",
         "6",
         "0",
         "6",
         "0",
         "1379.5591666666667",
         "0.0",
         "0.0",
         "40.0",
         "0.0",
         "121.29",
         "86.35",
         "1359.78",
         "12",
         "0",
         "6",
         "0",
         "6",
         "0",
         "6",
         "0",
         "6",
         "0",
         "16554.71",
         "0.0",
         "3072.51",
         "0.0",
         "0.0",
         "4",
         "70.48",
         "2018",
         "16554.71",
         "0.0",
         "365.0",
         "365.0",
         "1419.5591666666667",
         "1211.9191666666668",
         "174.0",
         "8.15838601532567",
         "7.928500957854406",
         "0.22988505747126364",
         "2.0990463571730498",
         "2.0704639834590317",
         "-1.470175845100596",
         "3.69",
         "1",
         "0",
         "0",
         "0",
         "1",
         "0",
         "0",
         "0",
         "0",
         "0",
         "0",
         "0",
         "0",
         "0",
         "0",
         "0",
         "0",
         "0",
         "0",
         "0",
         "0",
         "1",
         "0",
         "0",
         "0",
         "0",
         "0",
         "0",
         "0",
         "0",
         "0",
         "0",
         "0",
         "0",
         "0",
         "0",
         "0",
         "0",
         "1",
         "0",
         "0",
         "1",
         "0",
         "0",
         "0",
         "0",
         "0",
         "1",
         "0",
         "0",
         "0",
         "36",
         "1"
        ]
       ],
       "shape": {
        "columns": 123,
        "rows": 5
       }
      },
      "text/html": [
       "<div>\n",
       "<style scoped>\n",
       "    .dataframe tbody tr th:only-of-type {\n",
       "        vertical-align: middle;\n",
       "    }\n",
       "\n",
       "    .dataframe tbody tr th {\n",
       "        vertical-align: top;\n",
       "    }\n",
       "\n",
       "    .dataframe thead th {\n",
       "        text-align: right;\n",
       "    }\n",
       "</style>\n",
       "<table border=\"1\" class=\"dataframe\">\n",
       "  <thead>\n",
       "    <tr style=\"text-align: right;\">\n",
       "      <th></th>\n",
       "      <th>ordenccc</th>\n",
       "      <th>ordentra</th>\n",
       "      <th>region</th>\n",
       "      <th>secc</th>\n",
       "      <th>estrato2</th>\n",
       "      <th>control</th>\n",
       "      <th>mercado</th>\n",
       "      <th>convenio</th>\n",
       "      <th>sexo</th>\n",
       "      <th>tipopais</th>\n",
       "      <th>...</th>\n",
       "      <th>conv__4</th>\n",
       "      <th>conv__5</th>\n",
       "      <th>estudios_1</th>\n",
       "      <th>estudios_2</th>\n",
       "      <th>estudios_3</th>\n",
       "      <th>estudios_4</th>\n",
       "      <th>estudios_6</th>\n",
       "      <th>estudios_7</th>\n",
       "      <th>anoanti2</th>\n",
       "      <th>contrato</th>\n",
       "    </tr>\n",
       "  </thead>\n",
       "  <tbody>\n",
       "    <tr>\n",
       "      <th>0</th>\n",
       "      <td>00000025</td>\n",
       "      <td>01</td>\n",
       "      <td>1</td>\n",
       "      <td>H1</td>\n",
       "      <td>1</td>\n",
       "      <td>1</td>\n",
       "      <td>3</td>\n",
       "      <td>2</td>\n",
       "      <td>0</td>\n",
       "      <td>0</td>\n",
       "      <td>...</td>\n",
       "      <td>0</td>\n",
       "      <td>0</td>\n",
       "      <td>0</td>\n",
       "      <td>0</td>\n",
       "      <td>1</td>\n",
       "      <td>0</td>\n",
       "      <td>0</td>\n",
       "      <td>0</td>\n",
       "      <td>16</td>\n",
       "      <td>4</td>\n",
       "    </tr>\n",
       "    <tr>\n",
       "      <th>1</th>\n",
       "      <td>00000025</td>\n",
       "      <td>02</td>\n",
       "      <td>1</td>\n",
       "      <td>H1</td>\n",
       "      <td>1</td>\n",
       "      <td>1</td>\n",
       "      <td>3</td>\n",
       "      <td>2</td>\n",
       "      <td>0</td>\n",
       "      <td>0</td>\n",
       "      <td>...</td>\n",
       "      <td>0</td>\n",
       "      <td>0</td>\n",
       "      <td>0</td>\n",
       "      <td>0</td>\n",
       "      <td>1</td>\n",
       "      <td>0</td>\n",
       "      <td>0</td>\n",
       "      <td>0</td>\n",
       "      <td>100</td>\n",
       "      <td>1</td>\n",
       "    </tr>\n",
       "    <tr>\n",
       "      <th>2</th>\n",
       "      <td>00000025</td>\n",
       "      <td>03</td>\n",
       "      <td>1</td>\n",
       "      <td>H1</td>\n",
       "      <td>1</td>\n",
       "      <td>1</td>\n",
       "      <td>3</td>\n",
       "      <td>2</td>\n",
       "      <td>1</td>\n",
       "      <td>0</td>\n",
       "      <td>...</td>\n",
       "      <td>0</td>\n",
       "      <td>0</td>\n",
       "      <td>0</td>\n",
       "      <td>0</td>\n",
       "      <td>0</td>\n",
       "      <td>0</td>\n",
       "      <td>0</td>\n",
       "      <td>1</td>\n",
       "      <td>16</td>\n",
       "      <td>1</td>\n",
       "    </tr>\n",
       "    <tr>\n",
       "      <th>3</th>\n",
       "      <td>00000025</td>\n",
       "      <td>04</td>\n",
       "      <td>1</td>\n",
       "      <td>H1</td>\n",
       "      <td>1</td>\n",
       "      <td>1</td>\n",
       "      <td>3</td>\n",
       "      <td>2</td>\n",
       "      <td>0</td>\n",
       "      <td>0</td>\n",
       "      <td>...</td>\n",
       "      <td>0</td>\n",
       "      <td>0</td>\n",
       "      <td>0</td>\n",
       "      <td>0</td>\n",
       "      <td>1</td>\n",
       "      <td>0</td>\n",
       "      <td>0</td>\n",
       "      <td>0</td>\n",
       "      <td>-60</td>\n",
       "      <td>1</td>\n",
       "    </tr>\n",
       "    <tr>\n",
       "      <th>4</th>\n",
       "      <td>00000025</td>\n",
       "      <td>05</td>\n",
       "      <td>1</td>\n",
       "      <td>H1</td>\n",
       "      <td>1</td>\n",
       "      <td>1</td>\n",
       "      <td>3</td>\n",
       "      <td>2</td>\n",
       "      <td>0</td>\n",
       "      <td>0</td>\n",
       "      <td>...</td>\n",
       "      <td>0</td>\n",
       "      <td>0</td>\n",
       "      <td>0</td>\n",
       "      <td>0</td>\n",
       "      <td>1</td>\n",
       "      <td>0</td>\n",
       "      <td>0</td>\n",
       "      <td>0</td>\n",
       "      <td>36</td>\n",
       "      <td>1</td>\n",
       "    </tr>\n",
       "  </tbody>\n",
       "</table>\n",
       "<p>5 rows × 123 columns</p>\n",
       "</div>"
      ],
      "text/plain": [
       "   ordenccc ordentra region secc estrato2  control  mercado convenio  sexo  \\\n",
       "0  00000025       01      1   H1        1        1        3        2     0   \n",
       "1  00000025       02      1   H1        1        1        3        2     0   \n",
       "2  00000025       03      1   H1        1        1        3        2     1   \n",
       "3  00000025       04      1   H1        1        1        3        2     0   \n",
       "4  00000025       05      1   H1        1        1        3        2     0   \n",
       "\n",
       "   tipopais  ... conv__4 conv__5 estudios_1  estudios_2  estudios_3  \\\n",
       "0         0  ...       0       0          0           0           1   \n",
       "1         0  ...       0       0          0           0           1   \n",
       "2         0  ...       0       0          0           0           0   \n",
       "3         0  ...       0       0          0           0           1   \n",
       "4         0  ...       0       0          0           0           1   \n",
       "\n",
       "   estudios_4  estudios_6  estudios_7  anoanti2  contrato  \n",
       "0           0           0           0        16         4  \n",
       "1           0           0           0       100         1  \n",
       "2           0           0           1        16         1  \n",
       "3           0           0           0       -60         1  \n",
       "4           0           0           0        36         1  \n",
       "\n",
       "[5 rows x 123 columns]"
      ]
     },
     "execution_count": 2,
     "metadata": {},
     "output_type": "execute_result"
    }
   ],
   "source": [
    "import pandas as pd\n",
    "import numpy as np\n",
    "import os\n",
    "import matplotlib.pyplot as plt\n",
    "import seaborn as sns\n",
    "\n",
    "# Estilo de los gráficos\n",
    "sns.set_style(\"whitegrid\")\n",
    "\n",
    "# Cargar los datos procesados\n",
    "processed_data_path = os.path.join('..', 'data', 'EES_procesado.parquet')\n",
    "df = pd.read_parquet(processed_data_path)\n",
    "\n",
    "print(\"Datos cargados correctamente.\")\n",
    "print(f\"El DataFrame tiene {df.shape[0]} filas y {df.shape[1]} columnas.\")\n",
    "df.head()"
   ]
  },
  {
   "cell_type": "markdown",
   "metadata": {},
   "source": [
    "## Función para Calcular Percentiles Ponderados\n",
    "\n",
    "Pandas no soporta el cálculo de cuantiles (percentiles) ponderados de forma nativa. Usamos esta función auxiliar para replicar el comportamiento de Stata `[pw=factotal]`."
   ]
  },
  {
   "cell_type": "code",
   "execution_count": 3,
   "metadata": {},
   "outputs": [],
   "source": [
    "def weighted_quantile(values, quantiles, sample_weight=None):\n",
    "    \"\"\" Versión ponderada de numpy.quantile.\n",
    "    NOTE: quantiles debe estar en el rango [0, 1]!\n",
    "    \"\"\"\n",
    "    values = np.array(values)\n",
    "    quantiles = np.array(quantiles)\n",
    "    if sample_weight is None:\n",
    "        sample_weight = np.ones(len(values))\n",
    "    sample_weight = np.array(sample_weight)\n",
    "    assert np.all(quantiles >= 0) and np.all(quantiles <= 1), 'quantiles should be in [0, 1]'\n",
    "\n",
    "    # Ordenar valores y pesos\n",
    "    sorter = np.argsort(values)\n",
    "    values = values[sorter]\n",
    "    sample_weight = sample_weight[sorter]\n",
    "\n",
    "    # Calcular la distribución acumulada ponderada\n",
    "    weighted_quantiles = np.cumsum(sample_weight) - 0.5 * sample_weight\n",
    "    weighted_quantiles /= np.sum(sample_weight)\n",
    "    return np.interp(quantiles, weighted_quantiles, values)"
   ]
  },
  {
   "cell_type": "markdown",
   "metadata": {},
   "source": [
    "## Cálculo de Percentiles de Salario por Hora\n",
    "\n",
    "Calculamos los percentiles del logaritmo del salario por hora (`lsalhora`) para hombres (`sexo=0`) y mujeres (`sexo=1`) en cada año, utilizando el factor de ponderación `factotal`."
   ]
  },
  {
   "cell_type": "code",
   "execution_count": 4,
   "metadata": {},
   "outputs": [
    {
     "name": "stdout",
     "output_type": "stream",
     "text": [
      "Tabla de percentiles calculados:\n"
     ]
    },
    {
     "data": {
      "application/vnd.microsoft.datawrangler.viewer.v0+json": {
       "columns": [
        {
         "name": "percentil",
         "rawType": "int64",
         "type": "integer"
        },
        {
         "name": "2010_hombres",
         "rawType": "float64",
         "type": "float"
        },
        {
         "name": "2010_mujeres",
         "rawType": "float64",
         "type": "float"
        },
        {
         "name": "2014_hombres",
         "rawType": "float64",
         "type": "float"
        },
        {
         "name": "2014_mujeres",
         "rawType": "float64",
         "type": "float"
        },
        {
         "name": "2018_hombres",
         "rawType": "float64",
         "type": "float"
        },
        {
         "name": "2018_mujeres",
         "rawType": "float64",
         "type": "float"
        }
       ],
       "ref": "f587866b-5115-473a-b3fd-1a09c15a335b",
       "rows": [
        [
         "1",
         "1.5999723684138671",
         "1.493336782330974",
         "1.4891306695544912",
         "1.4280661175733211",
         "1.6619459056223191",
         "1.5882923761519536"
        ],
        [
         "2",
         "1.6837975893704469",
         "1.5777614061200205",
         "1.5901955981427074",
         "1.5230496418777821",
         "1.7412432212587217",
         "1.6494222543861186"
        ],
        [
         "3",
         "1.7531507663162689",
         "1.625054943835664",
         "1.6553365309458439",
         "1.5768938943338988",
         "1.7974533489114273",
         "1.698237135639087"
        ],
        [
         "4",
         "1.8037772675009152",
         "1.6635071631542049",
         "1.706498971288155",
         "1.617312010404963",
         "1.8467934813943034",
         "1.731894811783032"
        ],
        [
         "5",
         "1.8466584715127619",
         "1.6969735318326793",
         "1.7518961164681992",
         "1.649466385139216",
         "1.890338907929665",
         "1.76336492678916"
        ]
       ],
       "shape": {
        "columns": 6,
        "rows": 5
       }
      },
      "text/html": [
       "<div>\n",
       "<style scoped>\n",
       "    .dataframe tbody tr th:only-of-type {\n",
       "        vertical-align: middle;\n",
       "    }\n",
       "\n",
       "    .dataframe tbody tr th {\n",
       "        vertical-align: top;\n",
       "    }\n",
       "\n",
       "    .dataframe thead th {\n",
       "        text-align: right;\n",
       "    }\n",
       "</style>\n",
       "<table border=\"1\" class=\"dataframe\">\n",
       "  <thead>\n",
       "    <tr style=\"text-align: right;\">\n",
       "      <th></th>\n",
       "      <th>2010_hombres</th>\n",
       "      <th>2010_mujeres</th>\n",
       "      <th>2014_hombres</th>\n",
       "      <th>2014_mujeres</th>\n",
       "      <th>2018_hombres</th>\n",
       "      <th>2018_mujeres</th>\n",
       "    </tr>\n",
       "    <tr>\n",
       "      <th>percentil</th>\n",
       "      <th></th>\n",
       "      <th></th>\n",
       "      <th></th>\n",
       "      <th></th>\n",
       "      <th></th>\n",
       "      <th></th>\n",
       "    </tr>\n",
       "  </thead>\n",
       "  <tbody>\n",
       "    <tr>\n",
       "      <th>1</th>\n",
       "      <td>1.599972</td>\n",
       "      <td>1.493337</td>\n",
       "      <td>1.489131</td>\n",
       "      <td>1.428066</td>\n",
       "      <td>1.661946</td>\n",
       "      <td>1.588292</td>\n",
       "    </tr>\n",
       "    <tr>\n",
       "      <th>2</th>\n",
       "      <td>1.683798</td>\n",
       "      <td>1.577761</td>\n",
       "      <td>1.590196</td>\n",
       "      <td>1.523050</td>\n",
       "      <td>1.741243</td>\n",
       "      <td>1.649422</td>\n",
       "    </tr>\n",
       "    <tr>\n",
       "      <th>3</th>\n",
       "      <td>1.753151</td>\n",
       "      <td>1.625055</td>\n",
       "      <td>1.655337</td>\n",
       "      <td>1.576894</td>\n",
       "      <td>1.797453</td>\n",
       "      <td>1.698237</td>\n",
       "    </tr>\n",
       "    <tr>\n",
       "      <th>4</th>\n",
       "      <td>1.803777</td>\n",
       "      <td>1.663507</td>\n",
       "      <td>1.706499</td>\n",
       "      <td>1.617312</td>\n",
       "      <td>1.846793</td>\n",
       "      <td>1.731895</td>\n",
       "    </tr>\n",
       "    <tr>\n",
       "      <th>5</th>\n",
       "      <td>1.846658</td>\n",
       "      <td>1.696974</td>\n",
       "      <td>1.751896</td>\n",
       "      <td>1.649466</td>\n",
       "      <td>1.890339</td>\n",
       "      <td>1.763365</td>\n",
       "    </tr>\n",
       "  </tbody>\n",
       "</table>\n",
       "</div>"
      ],
      "text/plain": [
       "           2010_hombres  2010_mujeres  2014_hombres  2014_mujeres  \\\n",
       "percentil                                                           \n",
       "1              1.599972      1.493337      1.489131      1.428066   \n",
       "2              1.683798      1.577761      1.590196      1.523050   \n",
       "3              1.753151      1.625055      1.655337      1.576894   \n",
       "4              1.803777      1.663507      1.706499      1.617312   \n",
       "5              1.846658      1.696974      1.751896      1.649466   \n",
       "\n",
       "           2018_hombres  2018_mujeres  \n",
       "percentil                              \n",
       "1              1.661946      1.588292  \n",
       "2              1.741243      1.649422  \n",
       "3              1.797453      1.698237  \n",
       "4              1.846793      1.731895  \n",
       "5              1.890339      1.763365  "
      ]
     },
     "execution_count": 4,
     "metadata": {},
     "output_type": "execute_result"
    }
   ],
   "source": [
    "percentiles = np.arange(0.01, 1.0, 0.01) # Percentiles del 1 al 99\n",
    "results = {}\n",
    "\n",
    "for year in [2010, 2014, 2018]:\n",
    "    for sexo_code, sexo_label in [(0, 'hombres'), (1, 'mujeres')]:\n",
    "        # Filtrar el dataframe\n",
    "        subset = df[(df['year'] == year) & (df['sexo'] == sexo_code)].dropna(subset=['lsalhora', 'factotal'])\n",
    "        \n",
    "        # Calcular percentiles ponderados\n",
    "        key = f'{year}_{sexo_label}'\n",
    "        results[key] = weighted_quantile(\n",
    "            values=subset['lsalhora'], \n",
    "            quantiles=percentiles, \n",
    "            sample_weight=subset['factotal']\n",
    "        )\n",
    "\n",
    "# Convertir resultados a un DataFrame para facilitar el manejo\n",
    "pct_df = pd.DataFrame(results)\n",
    "pct_df['percentil'] = np.arange(1, 100)\n",
    "pct_df.set_index('percentil', inplace=True)\n",
    "\n",
    "print(\"Tabla de percentiles calculados:\")\n",
    "pct_df.head()"
   ]
  },
  {
   "cell_type": "markdown",
   "metadata": {},
   "source": [
    "## Diferencias de Percentiles entre Periodos\n",
    "\n",
    "Ahora calculamos la diferencia en los percentiles entre los periodos 2010-2014 y 2014-2018."
   ]
  },
  {
   "cell_type": "code",
   "execution_count": 5,
   "metadata": {},
   "outputs": [
    {
     "data": {
      "application/vnd.microsoft.datawrangler.viewer.v0+json": {
       "columns": [
        {
         "name": "percentil",
         "rawType": "int64",
         "type": "integer"
        },
        {
         "name": "diff_14_10_hombres",
         "rawType": "float64",
         "type": "float"
        },
        {
         "name": "diff_14_10_mujeres",
         "rawType": "float64",
         "type": "float"
        },
        {
         "name": "diff_18_14_hombres",
         "rawType": "float64",
         "type": "float"
        },
        {
         "name": "diff_18_14_mujeres",
         "rawType": "float64",
         "type": "float"
        }
       ],
       "ref": "97112a67-5da8-4fbd-ae09-8e1b0c0172a3",
       "rows": [
        [
         "5",
         "-0.09476235504456265",
         "-0.04750714669346334",
         "0.13844279146146588",
         "0.11389854164994406"
        ],
        [
         "6",
         "-0.0899747648183542",
         "-0.04114681390737496",
         "0.13142578365870095",
         "0.10926861937963861"
        ],
        [
         "7",
         "-0.0841223335545005",
         "-0.0404362424095388",
         "0.1322016973257476",
         "0.11056335878015089"
        ],
        [
         "8",
         "-0.07575301958507374",
         "-0.03698173755976608",
         "0.12159634944165254",
         "0.11007000418773183"
        ],
        [
         "9",
         "-0.06928921263880827",
         "-0.03768307663468873",
         "0.11889877071022181",
         "0.10716153915332471"
        ]
       ],
       "shape": {
        "columns": 4,
        "rows": 5
       }
      },
      "text/html": [
       "<div>\n",
       "<style scoped>\n",
       "    .dataframe tbody tr th:only-of-type {\n",
       "        vertical-align: middle;\n",
       "    }\n",
       "\n",
       "    .dataframe tbody tr th {\n",
       "        vertical-align: top;\n",
       "    }\n",
       "\n",
       "    .dataframe thead th {\n",
       "        text-align: right;\n",
       "    }\n",
       "</style>\n",
       "<table border=\"1\" class=\"dataframe\">\n",
       "  <thead>\n",
       "    <tr style=\"text-align: right;\">\n",
       "      <th></th>\n",
       "      <th>diff_14_10_hombres</th>\n",
       "      <th>diff_14_10_mujeres</th>\n",
       "      <th>diff_18_14_hombres</th>\n",
       "      <th>diff_18_14_mujeres</th>\n",
       "    </tr>\n",
       "    <tr>\n",
       "      <th>percentil</th>\n",
       "      <th></th>\n",
       "      <th></th>\n",
       "      <th></th>\n",
       "      <th></th>\n",
       "    </tr>\n",
       "  </thead>\n",
       "  <tbody>\n",
       "    <tr>\n",
       "      <th>5</th>\n",
       "      <td>-0.094762</td>\n",
       "      <td>-0.047507</td>\n",
       "      <td>0.138443</td>\n",
       "      <td>0.113899</td>\n",
       "    </tr>\n",
       "    <tr>\n",
       "      <th>6</th>\n",
       "      <td>-0.089975</td>\n",
       "      <td>-0.041147</td>\n",
       "      <td>0.131426</td>\n",
       "      <td>0.109269</td>\n",
       "    </tr>\n",
       "    <tr>\n",
       "      <th>7</th>\n",
       "      <td>-0.084122</td>\n",
       "      <td>-0.040436</td>\n",
       "      <td>0.132202</td>\n",
       "      <td>0.110563</td>\n",
       "    </tr>\n",
       "    <tr>\n",
       "      <th>8</th>\n",
       "      <td>-0.075753</td>\n",
       "      <td>-0.036982</td>\n",
       "      <td>0.121596</td>\n",
       "      <td>0.110070</td>\n",
       "    </tr>\n",
       "    <tr>\n",
       "      <th>9</th>\n",
       "      <td>-0.069289</td>\n",
       "      <td>-0.037683</td>\n",
       "      <td>0.118899</td>\n",
       "      <td>0.107162</td>\n",
       "    </tr>\n",
       "  </tbody>\n",
       "</table>\n",
       "</div>"
      ],
      "text/plain": [
       "           diff_14_10_hombres  diff_14_10_mujeres  diff_18_14_hombres  \\\n",
       "percentil                                                               \n",
       "5                   -0.094762           -0.047507            0.138443   \n",
       "6                   -0.089975           -0.041147            0.131426   \n",
       "7                   -0.084122           -0.040436            0.132202   \n",
       "8                   -0.075753           -0.036982            0.121596   \n",
       "9                   -0.069289           -0.037683            0.118899   \n",
       "\n",
       "           diff_18_14_mujeres  \n",
       "percentil                      \n",
       "5                    0.113899  \n",
       "6                    0.109269  \n",
       "7                    0.110563  \n",
       "8                    0.110070  \n",
       "9                    0.107162  "
      ]
     },
     "execution_count": 5,
     "metadata": {},
     "output_type": "execute_result"
    }
   ],
   "source": [
    "# Periodo 2010-2014\n",
    "pct_df['diff_14_10_hombres'] = pct_df['2014_hombres'] - pct_df['2010_hombres']\n",
    "pct_df['diff_14_10_mujeres'] = pct_df['2014_mujeres'] - pct_df['2010_mujeres']\n",
    "\n",
    "# Periodo 2014-2018\n",
    "pct_df['diff_18_14_hombres'] = pct_df['2018_hombres'] - pct_df['2014_hombres']\n",
    "pct_df['diff_18_14_mujeres'] = pct_df['2018_mujeres'] - pct_df['2014_mujeres']\n",
    "\n",
    "pct_df.loc[5:95, ['diff_14_10_hombres', 'diff_14_10_mujeres', 'diff_18_14_hombres', 'diff_18_14_mujeres']].head()"
   ]
  },
  {
   "cell_type": "markdown",
   "metadata": {},
   "source": [
    "### Gráfico: Crecimiento del Salario por Hora (2010-2014)"
   ]
  },
  {
   "cell_type": "code",
   "execution_count": 6,
   "metadata": {},
   "outputs": [
    {
     "data": {
      "image/png": "[encoded data removed]",
      "text/plain": [
       "<Figure size 1200x700 with 1 Axes>"
      ]
     },
     "metadata": {},
     "output_type": "display_data"
    }
   ],
   "source": [
    "plt.figure(figsize=(12, 7))\n",
    "\n",
    "# Graficar solo entre el percentil 5 y 95, como en el script de Stata\n",
    "subset_plot = pct_df.loc[5:95]\n",
    "\n",
    "plt.plot(subset_plot.index, subset_plot['diff_14_10_hombres'], label='Hombres 2010-2014', color='blue')\n",
    "plt.plot(subset_plot.index, subset_plot['diff_14_10_mujeres'], label='Mujeres 2010-2014', color='red')\n",
    "\n",
    "plt.title('Crecimiento del Logaritmo del Salario por Hora por Percentil (2010-2014)')\n",
    "plt.xlabel('Percentil de Salario')\n",
    "plt.ylabel('Cambio en el Logaritmo del Salario por Hora')\n",
    "plt.legend()\n",
    "plt.grid(True)\n",
    "plt.show()"
   ]
  },
  {
   "cell_type": "markdown",
   "metadata": {},
   "source": [
    "### Gráfico: Crecimiento del Salario por Hora (2014-2018)"
   ]
  },
  {
   "cell_type": "code",
   "execution_count": 7,
   "metadata": {},
   "outputs": [
    {
     "data": {
      "image/png": "[encoded data removed]",
      "text/plain": [
       "<Figure size 1200x700 with 1 Axes>"
      ]
     },
     "metadata": {},
     "output_type": "display_data"
    }
   ],
   "source": [
    "plt.figure(figsize=(12, 7))\n",
    "\n",
    "# Graficar solo entre el percentil 5 y 95\n",
    "subset_plot = pct_df.loc[5:95]\n",
    "\n",
    "plt.plot(subset_plot.index, subset_plot['diff_18_14_hombres'], label='Hombres 2014-2018', color='darkblue')\n",
    "plt.plot(subset_plot.index, subset_plot['diff_18_14_mujeres'], label='Mujeres 2014-2018', color='darkred')\n",
    "\n",
    "plt.title('Crecimiento del Logaritmo del Salario por Hora por Percentil (2014-2018)')\n",
    "plt.xlabel('Percentil de Salario')\n",
    "plt.ylabel('Cambio en el Logaritmo del Salario por Hora')\n",
    "plt.legend()\n",
    "plt.grid(True)\n",
    "plt.show()"
   ]
  }
 ],
 "metadata": {
  "kernelspec": {
   "display_name": "Python 3",
   "language": "python",
   "name": "python3"
  },
  "language_info": {
   "codemirror_mode": {
    "name": "ipython",
    "version": 3
   },
   "file_extension": ".py",
   "mimetype": "text/x-python",
   "name": "python",
   "nbconvert_exporter": "python",
   "pygments_lexer": "ipython3",
   "version": "3.9.7"
  }
 },
 "nbformat": 4,
 "nbformat_minor": 5
}
